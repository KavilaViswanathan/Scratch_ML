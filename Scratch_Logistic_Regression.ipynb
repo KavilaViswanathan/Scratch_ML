{
  "cells": [
    {
      "cell_type": "markdown",
      "metadata": {
        "id": "view-in-github",
        "colab_type": "text"
      },
      "source": [
        "<a href=\"https://colab.research.google.com/github/KavilaViswanathan/Scratch_ML/blob/main/Scratch_Logistic_Regression.ipynb\" target=\"_parent\"><img src=\"https://colab.research.google.com/assets/colab-badge.svg\" alt=\"Open In Colab\"/></a>"
      ]
    },
    {
      "cell_type": "code",
      "execution_count": null,
      "metadata": {
        "id": "YPJcGVkrzrXO"
      },
      "outputs": [],
      "source": [
        "import numpy as np\n",
        "import matplotlib.pyplot as plt"
      ]
    },
    {
      "cell_type": "code",
      "execution_count": null,
      "metadata": {
        "id": "TWu448PuzrXR"
      },
      "outputs": [],
      "source": [
        "def sigmoid(z):\n",
        "    return 1/(1+np.exp(-z))"
      ]
    },
    {
      "cell_type": "code",
      "execution_count": null,
      "metadata": {
        "id": "6tIGTQ2RzrXS",
        "outputId": "0b22b0e7-6f2a-4dcf-bc0c-0dda3800b3f4"
      },
      "outputs": [
        {
          "data": {
            "text/plain": [
              "array([[ 1.,  1.],\n",
              "       [ 1.,  2.],\n",
              "       [ 1.,  3.],\n",
              "       [ 1.,  4.],\n",
              "       [ 1.,  5.],\n",
              "       [ 1.,  6.],\n",
              "       [ 1.,  7.],\n",
              "       [ 1.,  8.],\n",
              "       [ 1.,  9.],\n",
              "       [ 1., 10.]])"
            ]
          },
          "execution_count": 42,
          "metadata": {},
          "output_type": "execute_result"
        }
      ],
      "source": [
        "X = np.column_stack((np.ones(X.shape[0]),X))\n",
        "X"
      ]
    },
    {
      "cell_type": "code",
      "execution_count": null,
      "metadata": {
        "id": "3KvxjORYzrXT",
        "outputId": "599f04ab-7641-431a-cd5d-5be0d37e923d"
      },
      "outputs": [
        {
          "data": {
            "text/plain": [
              "array([0., 0.])"
            ]
          },
          "execution_count": 55,
          "metadata": {},
          "output_type": "execute_result"
        }
      ],
      "source": [
        "num_features = X.shape[1]\n",
        "params = np.zeros(num_features)\n",
        "params"
      ]
    },
    {
      "cell_type": "code",
      "execution_count": null,
      "metadata": {
        "id": "_wtenPntzrXU"
      },
      "outputs": [],
      "source": [
        "learning_rate = 0.1\n",
        "num_iteration = 10000"
      ]
    },
    {
      "cell_type": "code",
      "execution_count": null,
      "metadata": {
        "id": "UBYP-mLEzrXV",
        "outputId": "da389826-bafc-46e1-a3ac-dbf66251d75c"
      },
      "outputs": [
        {
          "data": {
            "text/plain": [
              "array([-16.86673442,   3.77673007])"
            ]
          },
          "execution_count": 54,
          "metadata": {},
          "output_type": "execute_result"
        }
      ],
      "source": [
        "for _ in range(num_iteration):\n",
        "    z = np.dot(X,params)\n",
        "    y_pred = sigmoid(z)\n",
        "    gradient = np.dot(X.T,(y_pred-y)) / len(y)\n",
        "    params -= learning_rate * gradient\n",
        "params"
      ]
    },
    {
      "cell_type": "code",
      "execution_count": null,
      "metadata": {
        "id": "9EVfUZ9_zrXW",
        "outputId": "4456ff2b-10c6-4789-d9a0-95f8a14637c2"
      },
      "outputs": [
        {
          "name": "stdout",
          "output_type": "stream",
          "text": [
            "[ 0.          0.11111111  0.22222222  0.33333333  0.44444444  0.55555556\n",
            "  0.66666667  0.77777778  0.88888889  1.          1.11111111  1.22222222\n",
            "  1.33333333  1.44444444  1.55555556  1.66666667  1.77777778  1.88888889\n",
            "  2.          2.11111111  2.22222222  2.33333333  2.44444444  2.55555556\n",
            "  2.66666667  2.77777778  2.88888889  3.          3.11111111  3.22222222\n",
            "  3.33333333  3.44444444  3.55555556  3.66666667  3.77777778  3.88888889\n",
            "  4.          4.11111111  4.22222222  4.33333333  4.44444444  4.55555556\n",
            "  4.66666667  4.77777778  4.88888889  5.          5.11111111  5.22222222\n",
            "  5.33333333  5.44444444  5.55555556  5.66666667  5.77777778  5.88888889\n",
            "  6.          6.11111111  6.22222222  6.33333333  6.44444444  6.55555556\n",
            "  6.66666667  6.77777778  6.88888889  7.          7.11111111  7.22222222\n",
            "  7.33333333  7.44444444  7.55555556  7.66666667  7.77777778  7.88888889\n",
            "  8.          8.11111111  8.22222222  8.33333333  8.44444444  8.55555556\n",
            "  8.66666667  8.77777778  8.88888889  9.          9.11111111  9.22222222\n",
            "  9.33333333  9.44444444  9.55555556  9.66666667  9.77777778  9.88888889\n",
            " 10.         10.11111111 10.22222222 10.33333333 10.44444444 10.55555556\n",
            " 10.66666667 10.77777778 10.88888889 11.        ]\n"
          ]
        }
      ],
      "source": [
        "X_range = np.linspace(X[:,1].min()-1,X[:,1].max()+1,100)\n",
        "y_range = sigmoid(params[0] + params[1] * X_range)\n",
        "print(X_range)"
      ]
    },
    {
      "cell_type": "code",
      "execution_count": null,
      "metadata": {
        "id": "EVt19oKezrXW",
        "outputId": "22dc2852-6e26-4bcc-d9fa-920e4a058b75"
      },
      "outputs": [
        {
          "data": {
            "text/plain": [
              "array([2.03156639e-06, 2.81804833e-06, 3.90900047e-06, 5.42229104e-06,\n",
              "       7.52141707e-06, 1.04331672e-05, 1.44721205e-05, 2.00746276e-05,\n",
              "       2.78459399e-05, 3.86255750e-05, 5.35779661e-05, 7.43181644e-05,\n",
              "       1.03086131e-04, 1.42988354e-04, 1.98332728e-04, 2.75092532e-04,\n",
              "       3.81548992e-04, 5.29180612e-04, 7.33892960e-04, 1.01771719e-03,\n",
              "       1.41115200e-03, 1.95638517e-03, 2.71171048e-03, 3.75755547e-03,\n",
              "       5.20465400e-03, 7.20502428e-03, 9.96651945e-03, 1.37717407e-02,\n",
              "       1.90019126e-02, 2.61656779e-02, 3.59312781e-02, 4.91576323e-02,\n",
              "       6.69147005e-02, 9.04757578e-02, 1.21254735e-01, 1.60654916e-01,\n",
              "       2.09801057e-01, 2.69160351e-01, 3.38127803e-01, 4.14738560e-01,\n",
              "       4.95707087e-01, 5.76901410e-01, 6.54143861e-01, 7.24030392e-01,\n",
              "       7.84448466e-01, 8.34659806e-01, 8.75037968e-01, 9.06658035e-01,\n",
              "       9.30908790e-01, 9.49211998e-01, 9.62859885e-01, 9.72944810e-01,\n",
              "       9.80347195e-01, 9.85753920e-01, 9.89688834e-01, 9.92545104e-01,\n",
              "       9.94614471e-01, 9.96111663e-01, 9.97193806e-01, 9.97975396e-01,\n",
              "       9.98539613e-01, 9.98946760e-01, 9.99240484e-01, 9.99452340e-01,\n",
              "       9.99605125e-01, 9.99715298e-01, 9.99794739e-01, 9.99852016e-01,\n",
              "       9.99893312e-01, 9.99923085e-01, 9.99944550e-01, 9.99960025e-01,\n",
              "       9.99971181e-01, 9.99979224e-01, 9.99985022e-01, 9.99989202e-01,\n",
              "       9.99992216e-01, 9.99994388e-01, 9.99995954e-01, 9.99997083e-01,\n",
              "       9.99997897e-01, 9.99998484e-01, 9.99998907e-01, 9.99999212e-01,\n",
              "       9.99999432e-01, 9.99999591e-01, 9.99999705e-01, 9.99999787e-01,\n",
              "       9.99999847e-01, 9.99999889e-01, 9.99999920e-01, 9.99999943e-01,\n",
              "       9.99999959e-01, 9.99999970e-01, 9.99999978e-01, 9.99999984e-01,\n",
              "       9.99999989e-01, 9.99999992e-01, 9.99999994e-01, 9.99999996e-01])"
            ]
          },
          "execution_count": 53,
          "metadata": {},
          "output_type": "execute_result"
        }
      ],
      "source": [
        "y_range"
      ]
    },
    {
      "cell_type": "code",
      "execution_count": null,
      "metadata": {
        "id": "uNqaKjWFzrXX",
        "outputId": "1c88b671-2497-4f02-ec1e-1ad7427a1268"
      },
      "outputs": [
        {
          "data": {
            "image/png": "[encoded data removed]",
            "text/plain": [
              "<Figure size 432x288 with 1 Axes>"
            ]
          },
          "metadata": {
            "needs_background": "light"
          },
          "output_type": "display_data"
        }
      ],
      "source": [
        "plt.plot(X_range,y_range,label=\"Logistic regression Curve\",color = \"green\")\n",
        "plt.scatter(X[y == 0][:,1],y[y==0],label = 'Class 0',color='blue')\n",
        "plt.scatter(X[y == 1][:,1],y[y==1],label = 'Class 1',color='red')\n",
        "plt.xlabel('Features')\n",
        "plt.ylabel('Probability (Y)')\n",
        "plt.legend()\n",
        "plt.title('Logistic Regression Curve')\n",
        "plt.grid(True)\n",
        "plt.show()"
      ]
    },
    {
      "cell_type": "code",
      "execution_count": null,
      "metadata": {
        "id": "uFDRI_gIzrXX"
      },
      "outputs": [],
      "source": []
    },
    {
      "cell_type": "code",
      "execution_count": null,
      "metadata": {
        "id": "oJ72VHElzrXY"
      },
      "outputs": [],
      "source": []
    }
  ],
  "metadata": {
    "kernelspec": {
      "display_name": "base",
      "language": "python",
      "name": "python3"
    },
    "language_info": {
      "codemirror_mode": {
        "name": "ipython",
        "version": 3
      },
      "file_extension": ".py",
      "mimetype": "text/x-python",
      "name": "python",
      "nbconvert_exporter": "python",
      "pygments_lexer": "ipython3",
      "version": "3.9.12"
    },
    "colab": {
      "provenance": [],
      "include_colab_link": true
    }
  },
  "nbformat": 4,
  "nbformat_minor": 0
}