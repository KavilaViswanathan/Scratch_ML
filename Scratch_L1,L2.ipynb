{
  "cells": [
    {
      "cell_type": "markdown",
      "metadata": {
        "id": "view-in-github",
        "colab_type": "text"
      },
      "source": [
        "<a href=\"https://colab.research.google.com/github/KavilaViswanathan/Scratch_ML/blob/main/Scratch_L1%2CL2.ipynb\" target=\"_parent\"><img src=\"https://colab.research.google.com/assets/colab-badge.svg\" alt=\"Open In Colab\"/></a>"
      ]
    },
    {
      "cell_type": "code",
      "execution_count": null,
      "metadata": {
        "id": "OHrDszQ90eVB"
      },
      "outputs": [],
      "source": [
        "import numpy as np\n",
        "import matplotlib.pyplot as plt"
      ]
    },
    {
      "cell_type": "code",
      "execution_count": null,
      "metadata": {
        "id": "t8vCtXRQ0eVE"
      },
      "outputs": [],
      "source": [
        "X = np.array([1,2,3,4,5])\n",
        "y = np.array([2.1,3.8,6.5,9.3,11.3])"
      ]
    },
    {
      "cell_type": "code",
      "execution_count": null,
      "metadata": {
        "id": "fhmMEIRa0eVF",
        "outputId": "24ee84e7-f63d-441a-f0a0-c5c42bc1d79d"
      },
      "outputs": [
        {
          "data": {
            "text/plain": [
              "array([[1., 1.],\n",
              "       [1., 2.],\n",
              "       [1., 3.],\n",
              "       [1., 4.],\n",
              "       [1., 5.]])"
            ]
          },
          "execution_count": 23,
          "metadata": {},
          "output_type": "execute_result"
        }
      ],
      "source": [
        "#Design matrix\n",
        "X_b = np.c_[np.ones((X.shape[0],1)),X]\n",
        "X_b"
      ]
    },
    {
      "cell_type": "code",
      "execution_count": null,
      "metadata": {
        "id": "ZMmnpPb60eVH"
      },
      "outputs": [],
      "source": [
        "alpha_ridge = 1.0\n",
        "aplha_lasso = 0.1\n",
        "num_iterations = 1000\n",
        "learning_rate = 0.01"
      ]
    },
    {
      "cell_type": "code",
      "execution_count": null,
      "metadata": {
        "id": "dfopGX_b0eVH"
      },
      "outputs": [],
      "source": [
        "#lasso-> reach zero\n",
        "def lasso_regression(X,y,alpha,num_iterations,learning_rate):\n",
        "    m,n = X.shape\n",
        "    theta = np.zeros(n)\n",
        "    for _ in range(num_iterations):\n",
        "        y_pred = X.dot(theta)\n",
        "        gradient = (X.T.dot(y_pred - y)+alpha*np.sign(theta))/m\n",
        "        theta -= learning_rate*gradient\n",
        "    return theta"
      ]
    },
    {
      "cell_type": "code",
      "execution_count": null,
      "metadata": {
        "id": "myPM5S5i0eVI"
      },
      "outputs": [],
      "source": [
        "#ridge-> cant reach zero\n",
        "def ridge_regression(X,y,alpha,num_iterations,learning_rate):\n",
        "    m,n = X.shape\n",
        "    theta = np.zeros(n)\n",
        "    for _ in range(num_iterations):\n",
        "        y_pred = X.dot(theta)\n",
        "        gradient = (X.T.dot(y_pred - y)+alpha* theta)/m\n",
        "        theta -= learning_rate*gradient\n",
        "    return theta"
      ]
    },
    {
      "cell_type": "code",
      "execution_count": null,
      "metadata": {
        "id": "NfW3ycmD0eVI"
      },
      "outputs": [],
      "source": [
        "theta_ridge = ridge_regression(X_b,y,alpha_ridge,num_iterations,learning_rate)\n",
        "theta_lasso = lasso_regression(X_b,y,aplha_lasso,num_iterations,learning_rate)"
      ]
    },
    {
      "cell_type": "code",
      "execution_count": null,
      "metadata": {
        "id": "T3lihtWe0eVI",
        "outputId": "98ebfd4f-0eca-46ba-a722-2d595a22ffcc"
      },
      "outputs": [
        {
          "data": {
            "image/png": "[encoded data removed]",
            "text/plain": [
              "<Figure size 432x288 with 1 Axes>"
            ]
          },
          "metadata": {
            "needs_background": "light"
          },
          "output_type": "display_data"
        }
      ],
      "source": [
        "plt.scatter(X,y,label='Data')\n",
        "plt.plot(X,X_b.dot(theta_ridge),label=f'Ridge (L2) Regression',color='red')\n",
        "plt.plot(X,X_b.dot(theta_lasso),label=f'lasso (L2) Regression',color='green')\n",
        "plt.xlabel('X')\n",
        "plt.ylabel('y')\n",
        "plt.legend()\n",
        "plt.show()"
      ]
    },
    {
      "cell_type": "code",
      "execution_count": null,
      "metadata": {
        "id": "CHIPOBhn0eVJ"
      },
      "outputs": [],
      "source": []
    }
  ],
  "metadata": {
    "kernelspec": {
      "display_name": "base",
      "language": "python",
      "name": "python3"
    },
    "language_info": {
      "codemirror_mode": {
        "name": "ipython",
        "version": 3
      },
      "file_extension": ".py",
      "mimetype": "text/x-python",
      "name": "python",
      "nbconvert_exporter": "python",
      "pygments_lexer": "ipython3",
      "version": "3.9.12"
    },
    "colab": {
      "provenance": [],
      "include_colab_link": true
    }
  },
  "nbformat": 4,
  "nbformat_minor": 0
}